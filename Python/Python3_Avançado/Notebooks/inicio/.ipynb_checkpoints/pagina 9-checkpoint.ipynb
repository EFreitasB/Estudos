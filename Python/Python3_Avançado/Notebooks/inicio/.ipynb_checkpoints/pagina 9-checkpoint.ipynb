{
 "cells": [
  {
   "cell_type": "code",
   "execution_count": null,
   "metadata": {
    "id": "cIskOwBO2nIo"
   },
   "outputs": [],
   "source": [
    "# listas em python \n",
    "\n",
    "# uma lista pode armazenar vários valores "
   ]
  },
  {
   "cell_type": "code",
   "execution_count": null,
   "metadata": {
    "colab": {
     "base_uri": "https://localhost:8080/"
    },
    "executionInfo": {
     "elapsed": 15,
     "status": "ok",
     "timestamp": 1645624465652,
     "user": {
      "displayName": "Edgar Bruno Benicio de Freitas",
      "photoUrl": "https://lh3.googleusercontent.com/a-/AOh14GiZmASEMjQNCk0WtFcirsWGjCRCzFWDSOGuehrkaA=s64",
      "userId": "01003199975976267017"
     },
     "user_tz": 180
    },
    "id": "CGYBTJXp3ANK",
    "outputId": "d1520b41-3a85-4dbd-e27d-95f4cfccaa44"
   },
   "outputs": [
    {
     "data": {
      "text/plain": [
       "[10, 'edgar', True, -9.66]"
      ]
     },
     "execution_count": 1,
     "metadata": {},
     "output_type": "execute_result"
    }
   ],
   "source": [
    "#          0      1       2     3\n",
    "lista = [ 10 , 'edgar', True, -9.66]\n",
    "#         -4    -3      -2     -1\n",
    "lista"
   ]
  },
  {
   "cell_type": "code",
   "execution_count": null,
   "metadata": {
    "colab": {
     "base_uri": "https://localhost:8080/"
    },
    "executionInfo": {
     "elapsed": 10,
     "status": "ok",
     "timestamp": 1645624777345,
     "user": {
      "displayName": "Edgar Bruno Benicio de Freitas",
      "photoUrl": "https://lh3.googleusercontent.com/a-/AOh14GiZmASEMjQNCk0WtFcirsWGjCRCzFWDSOGuehrkaA=s64",
      "userId": "01003199975976267017"
     },
     "user_tz": 180
    },
    "id": "utDXar0G4Kx_",
    "outputId": "95fcef39-5f8f-4c53-b4be-52f32e93941f"
   },
   "outputs": [
    {
     "name": "stdout",
     "output_type": "stream",
     "text": [
      "['bruno', 'edgar', True, -9.66]\n"
     ]
    }
   ],
   "source": [
    "# posso trocar os elemento da lista \n",
    "\n",
    "lista[0] = 'bruno'\n",
    "\n",
    "print(lista)"
   ]
  },
  {
   "cell_type": "code",
   "execution_count": 3,
   "metadata": {},
   "outputs": [
    {
     "ename": "TypeError",
     "evalue": "'str' object does not support item assignment",
     "output_type": "error",
     "traceback": [
      "\u001b[0;31m---------------------------------------------------------------------------\u001b[0m",
      "\u001b[0;31mTypeError\u001b[0m                                 Traceback (most recent call last)",
      "\u001b[0;32m/tmp/ipykernel_17532/736584004.py\u001b[0m in \u001b[0;36m<module>\u001b[0;34m\u001b[0m\n\u001b[1;32m      1\u001b[0m \u001b[0mstring\u001b[0m \u001b[0;34m=\u001b[0m \u001b[0;34m'edgar'\u001b[0m\u001b[0;34m\u001b[0m\u001b[0;34m\u001b[0m\u001b[0m\n\u001b[1;32m      2\u001b[0m \u001b[0;34m\u001b[0m\u001b[0m\n\u001b[0;32m----> 3\u001b[0;31m \u001b[0mstring\u001b[0m\u001b[0;34m[\u001b[0m\u001b[0;36m2\u001b[0m\u001b[0;34m]\u001b[0m \u001b[0;34m=\u001b[0m \u001b[0;34m'd'\u001b[0m\u001b[0;34m\u001b[0m\u001b[0;34m\u001b[0m\u001b[0m\n\u001b[0m",
      "\u001b[0;31mTypeError\u001b[0m: 'str' object does not support item assignment"
     ]
    }
   ],
   "source": [
    "string = 'edgar'\n",
    "\n",
    "string[2] = 'd'"
   ]
  },
  {
   "cell_type": "code",
   "execution_count": null,
   "metadata": {
    "colab": {
     "base_uri": "https://localhost:8080/"
    },
    "executionInfo": {
     "elapsed": 5,
     "status": "ok",
     "timestamp": 1645624919023,
     "user": {
      "displayName": "Edgar Bruno Benicio de Freitas",
      "photoUrl": "https://lh3.googleusercontent.com/a-/AOh14GiZmASEMjQNCk0WtFcirsWGjCRCzFWDSOGuehrkaA=s64",
      "userId": "01003199975976267017"
     },
     "user_tz": 180
    },
    "id": "gtysyRC04rRp",
    "outputId": "9544e9a4-8b7f-47ca-810c-ee2e02bb29bc"
   },
   "outputs": [
    {
     "data": {
      "text/plain": [
       "['bruno', True]"
      ]
     },
     "execution_count": 4,
     "metadata": {},
     "output_type": "execute_result"
    }
   ],
   "source": [
    "# posso fazer o fatiamento de lista \n",
    "\n",
    "lista[-4:-1:2]"
   ]
  },
  {
   "cell_type": "code",
   "execution_count": null,
   "metadata": {
    "colab": {
     "base_uri": "https://localhost:8080/"
    },
    "executionInfo": {
     "elapsed": 300,
     "status": "ok",
     "timestamp": 1645624973727,
     "user": {
      "displayName": "Edgar Bruno Benicio de Freitas",
      "photoUrl": "https://lh3.googleusercontent.com/a-/AOh14GiZmASEMjQNCk0WtFcirsWGjCRCzFWDSOGuehrkaA=s64",
      "userId": "01003199975976267017"
     },
     "user_tz": 180
    },
    "id": "V6ZGU5KB5Awl",
    "outputId": "13e7dd28-f92b-41aa-c7ba-0503895ac9cd"
   },
   "outputs": [
    {
     "data": {
      "text/plain": [
       "['bruno', 'edgar', True, -9.66]"
      ]
     },
     "execution_count": 5,
     "metadata": {},
     "output_type": "execute_result"
    }
   ],
   "source": [
    "# lista no sentido normal \n",
    "\n",
    "lista[::1]"
   ]
  },
  {
   "cell_type": "code",
   "execution_count": null,
   "metadata": {
    "colab": {
     "base_uri": "https://localhost:8080/"
    },
    "executionInfo": {
     "elapsed": 296,
     "status": "ok",
     "timestamp": 1645624992720,
     "user": {
      "displayName": "Edgar Bruno Benicio de Freitas",
      "photoUrl": "https://lh3.googleusercontent.com/a-/AOh14GiZmASEMjQNCk0WtFcirsWGjCRCzFWDSOGuehrkaA=s64",
      "userId": "01003199975976267017"
     },
     "user_tz": 180
    },
    "id": "UuT1t7Bw5GJ9",
    "outputId": "a94cd9c4-f8d4-423b-96ea-287763863b8d"
   },
   "outputs": [
    {
     "data": {
      "text/plain": [
       "[-9.66, True, 'edgar', 'bruno']"
      ]
     },
     "execution_count": 6,
     "metadata": {},
     "output_type": "execute_result"
    }
   ],
   "source": [
    "# lista no sentido inverso \n",
    "\n",
    "lista[::-1]"
   ]
  },
  {
   "cell_type": "code",
   "execution_count": 4,
   "metadata": {},
   "outputs": [
    {
     "data": {
      "text/plain": [
       "'ragde'"
      ]
     },
     "execution_count": 4,
     "metadata": {},
     "output_type": "execute_result"
    }
   ],
   "source": [
    "string = 'edgar'\n",
    "\n",
    "string[::-1] "
   ]
  },
  {
   "cell_type": "code",
   "execution_count": null,
   "metadata": {
    "colab": {
     "base_uri": "https://localhost:8080/"
    },
    "executionInfo": {
     "elapsed": 5,
     "status": "ok",
     "timestamp": 1645625018108,
     "user": {
      "displayName": "Edgar Bruno Benicio de Freitas",
      "photoUrl": "https://lh3.googleusercontent.com/a-/AOh14GiZmASEMjQNCk0WtFcirsWGjCRCzFWDSOGuehrkaA=s64",
      "userId": "01003199975976267017"
     },
     "user_tz": 180
    },
    "id": "1SHb-HdS5Mru",
    "outputId": "c691a56a-9916-4eaa-a02b-177215ca7c1c"
   },
   "outputs": [
    {
     "data": {
      "text/plain": [
       "[-9.66, 'edgar']"
      ]
     },
     "execution_count": 7,
     "metadata": {},
     "output_type": "execute_result"
    }
   ],
   "source": [
    "# no sentido inverso de 2 e 2 \n",
    "\n",
    "lista[::-2]"
   ]
  },
  {
   "cell_type": "code",
   "execution_count": null,
   "metadata": {
    "colab": {
     "base_uri": "https://localhost:8080/"
    },
    "executionInfo": {
     "elapsed": 6,
     "status": "ok",
     "timestamp": 1645625174647,
     "user": {
      "displayName": "Edgar Bruno Benicio de Freitas",
      "photoUrl": "https://lh3.googleusercontent.com/a-/AOh14GiZmASEMjQNCk0WtFcirsWGjCRCzFWDSOGuehrkaA=s64",
      "userId": "01003199975976267017"
     },
     "user_tz": 180
    },
    "id": "U75Y4AN65hmh",
    "outputId": "2cbcfc90-c1e5-4d38-bb9e-aff7025e4c3f"
   },
   "outputs": [
    {
     "data": {
      "text/plain": [
       "['edgar', 'bruno', 'benicio', 6, 10, 1993]"
      ]
     },
     "execution_count": 9,
     "metadata": {},
     "output_type": "execute_result"
    }
   ],
   "source": [
    "# funções para listas \n",
    "\n",
    "l1 = ['edgar','bruno','benicio']\n",
    "l2 = [6,10,1993]\n",
    "\n",
    "l3 = l1 + l2 #juntando listas \n",
    "l3"
   ]
  },
  {
   "cell_type": "code",
   "execution_count": null,
   "metadata": {
    "colab": {
     "base_uri": "https://localhost:8080/"
    },
    "executionInfo": {
     "elapsed": 290,
     "status": "ok",
     "timestamp": 1645625350991,
     "user": {
      "displayName": "Edgar Bruno Benicio de Freitas",
      "photoUrl": "https://lh3.googleusercontent.com/a-/AOh14GiZmASEMjQNCk0WtFcirsWGjCRCzFWDSOGuehrkaA=s64",
      "userId": "01003199975976267017"
     },
     "user_tz": 180
    },
    "id": "ynxaSPTQ57ne",
    "outputId": "bad42ffa-0d8c-4efe-bff2-f2a6d7c9331b"
   },
   "outputs": [
    {
     "name": "stdout",
     "output_type": "stream",
     "text": [
      "['edgar', 'bruno', 'benicio', 6, 10, 1993]\n"
     ]
    }
   ],
   "source": [
    "# adicionando elementos de uma lista em outra lista (outra lista que já exista)\n",
    "l1 = ['edgar','bruno','benicio']\n",
    "l2 = [6,10,1993]\n",
    "\n",
    "l1.extend(l2)\n",
    "print(l1)"
   ]
  },
  {
   "cell_type": "code",
   "execution_count": null,
   "metadata": {
    "colab": {
     "base_uri": "https://localhost:8080/"
    },
    "executionInfo": {
     "elapsed": 374,
     "status": "ok",
     "timestamp": 1645625415861,
     "user": {
      "displayName": "Edgar Bruno Benicio de Freitas",
      "photoUrl": "https://lh3.googleusercontent.com/a-/AOh14GiZmASEMjQNCk0WtFcirsWGjCRCzFWDSOGuehrkaA=s64",
      "userId": "01003199975976267017"
     },
     "user_tz": 180
    },
    "id": "DFKxq5i96osF",
    "outputId": "ae9bd746-ad24-4021-d3bd-da5fb3908a0b"
   },
   "outputs": [
    {
     "data": {
      "text/plain": [
       "['edgar', 'bruno', 'benicio', [6, 10, 1993]]"
      ]
     },
     "execution_count": 16,
     "metadata": {},
     "output_type": "execute_result"
    }
   ],
   "source": [
    "# append : adicionando elemento no fim da lista (o elemento pode ser um valor ou uma lista)\n",
    "\n",
    "l1 = ['edgar','bruno','benicio']\n",
    "l2 = [6,10,1993]\n",
    "\n",
    "l1.append(l2)\n",
    "l1"
   ]
  },
  {
   "cell_type": "code",
   "execution_count": null,
   "metadata": {
    "colab": {
     "base_uri": "https://localhost:8080/"
    },
    "executionInfo": {
     "elapsed": 347,
     "status": "ok",
     "timestamp": 1645625528198,
     "user": {
      "displayName": "Edgar Bruno Benicio de Freitas",
      "photoUrl": "https://lh3.googleusercontent.com/a-/AOh14GiZmASEMjQNCk0WtFcirsWGjCRCzFWDSOGuehrkaA=s64",
      "userId": "01003199975976267017"
     },
     "user_tz": 180
    },
    "id": "75IlaqQA7GCZ",
    "outputId": "dd27192a-c72e-4209-ca2d-3268c3901de7"
   },
   "outputs": [
    {
     "data": {
      "text/plain": [
       "['oi', 'edgar', 'bruno', 'benicio']"
      ]
     },
     "execution_count": 18,
     "metadata": {},
     "output_type": "execute_result"
    }
   ],
   "source": [
    "# o insert faz sempre uma troca : (valor, posição)\n",
    "\n",
    "l1 = ['edgar','bruno','benicio']\n",
    "l2 = [6,10,1993]\n",
    "\n",
    "l1.insert(0,'oi')\n",
    "l1"
   ]
  },
  {
   "cell_type": "code",
   "execution_count": null,
   "metadata": {
    "colab": {
     "base_uri": "https://localhost:8080/"
    },
    "executionInfo": {
     "elapsed": 366,
     "status": "ok",
     "timestamp": 1645625726227,
     "user": {
      "displayName": "Edgar Bruno Benicio de Freitas",
      "photoUrl": "https://lh3.googleusercontent.com/a-/AOh14GiZmASEMjQNCk0WtFcirsWGjCRCzFWDSOGuehrkaA=s64",
      "userId": "01003199975976267017"
     },
     "user_tz": 180
    },
    "id": "J1sWi0mD7sEx",
    "outputId": "9b823a86-e4b2-4a5d-f0eb-5f80d6c4a3c2"
   },
   "outputs": [
    {
     "name": "stdout",
     "output_type": "stream",
     "text": [
      "['edgar', 'bruno'] [6, 10]\n"
     ]
    }
   ],
   "source": [
    "# a função pop remove o último elemento da lista \n",
    "\n",
    "l1 = ['edgar','bruno','benicio']\n",
    "l2 = [6,10,1993]\n",
    "\n",
    "l1.pop()\n",
    "l2.pop()\n",
    "\n",
    "print(l1,l2)"
   ]
  },
  {
   "cell_type": "code",
   "execution_count": null,
   "metadata": {
    "colab": {
     "base_uri": "https://localhost:8080/"
    },
    "executionInfo": {
     "elapsed": 540,
     "status": "ok",
     "timestamp": 1645626004249,
     "user": {
      "displayName": "Edgar Bruno Benicio de Freitas",
      "photoUrl": "https://lh3.googleusercontent.com/a-/AOh14GiZmASEMjQNCk0WtFcirsWGjCRCzFWDSOGuehrkaA=s64",
      "userId": "01003199975976267017"
     },
     "user_tz": 180
    },
    "id": "q647KyD48D5c",
    "outputId": "b45b007a-9f1d-432a-b006-d01535011429"
   },
   "outputs": [
    {
     "name": "stdout",
     "output_type": "stream",
     "text": [
      "['edgar', 'bruno', 'benicio', 6, 10, 1993]\n",
      "['edgar', 6, 10, 1993]\n"
     ]
    }
   ],
   "source": [
    "# removendo trechos da lista por fatiamento del()\n",
    "\n",
    "l1 = ['edgar','bruno','benicio']\n",
    "l2 = [6,10,1993]\n",
    "\n",
    "l1.extend(l2)\n",
    "print(l1)\n",
    "\n",
    "del(l1[1:3])\n",
    "\n",
    "print(l1)"
   ]
  },
  {
   "cell_type": "code",
   "execution_count": null,
   "metadata": {
    "colab": {
     "base_uri": "https://localhost:8080/"
    },
    "executionInfo": {
     "elapsed": 22,
     "status": "ok",
     "timestamp": 1645667753434,
     "user": {
      "displayName": "Edgar Bruno Benicio de Freitas",
      "photoUrl": "https://lh3.googleusercontent.com/a-/AOh14GiZmASEMjQNCk0WtFcirsWGjCRCzFWDSOGuehrkaA=s64",
      "userId": "01003199975976267017"
     },
     "user_tz": 180
    },
    "id": "GKfwpcGi9cbS",
    "outputId": "3d6bcf32-b369-429a-8452-80316238cf95"
   },
   "outputs": [
    {
     "name": "stdout",
     "output_type": "stream",
     "text": [
      "6-1993\n"
     ]
    }
   ],
   "source": [
    "# maior e menor valor da lista \n",
    "\n",
    "l2 = [6,10,1993]\n",
    "\n",
    "print(min(l2),max(l2),sep='-')  "
   ]
  },
  {
   "cell_type": "code",
   "execution_count": null,
   "metadata": {
    "colab": {
     "base_uri": "https://localhost:8080/"
    },
    "executionInfo": {
     "elapsed": 406,
     "status": "ok",
     "timestamp": 1645667987365,
     "user": {
      "displayName": "Edgar Bruno Benicio de Freitas",
      "photoUrl": "https://lh3.googleusercontent.com/a-/AOh14GiZmASEMjQNCk0WtFcirsWGjCRCzFWDSOGuehrkaA=s64",
      "userId": "01003199975976267017"
     },
     "user_tz": 180
    },
    "id": "wbO_uZvHcON4",
    "outputId": "7587223f-7dda-490c-e8fd-ed837fd65fc6"
   },
   "outputs": [
    {
     "name": "stdout",
     "output_type": "stream",
     "text": [
      "[0, 9, 18, 27, 36, 45, 54, 63, 72, 81, 90, 99]\n"
     ]
    }
   ],
   "source": [
    "# encontrando os multiplos de 9 com a função list() : \n",
    "\n",
    "print(list(range(0,100,9)))\n"
   ]
  },
  {
   "cell_type": "code",
   "execution_count": null,
   "metadata": {
    "colab": {
     "base_uri": "https://localhost:8080/"
    },
    "executionInfo": {
     "elapsed": 346,
     "status": "ok",
     "timestamp": 1645668286954,
     "user": {
      "displayName": "Edgar Bruno Benicio de Freitas",
      "photoUrl": "https://lh3.googleusercontent.com/a-/AOh14GiZmASEMjQNCk0WtFcirsWGjCRCzFWDSOGuehrkaA=s64",
      "userId": "01003199975976267017"
     },
     "user_tz": 180
    },
    "id": "HFW0tJ48dciy",
    "outputId": "7e344dd2-9e3b-4f67-b8b9-b0628806075e"
   },
   "outputs": [
    {
     "data": {
      "text/plain": [
       "[9, 18, 27, 36, 45, 54, 63, 72, 81, 90, 99]"
      ]
     },
     "execution_count": 4,
     "metadata": {},
     "output_type": "execute_result"
    }
   ],
   "source": [
    "# iterar sobre a lista \n",
    "\n",
    "lista = list(range(0,100,9)) \n",
    "\n",
    "lista_2 = []\n",
    "\n",
    "for i in lista:\n",
    "  if i == 0:\n",
    "    continue \n",
    "  lista_2.append(i)\n",
    "\n",
    "lista_2"
   ]
  },
  {
   "cell_type": "code",
   "execution_count": null,
   "metadata": {
    "colab": {
     "base_uri": "https://localhost:8080/"
    },
    "executionInfo": {
     "elapsed": 316,
     "status": "ok",
     "timestamp": 1645668512161,
     "user": {
      "displayName": "Edgar Bruno Benicio de Freitas",
      "photoUrl": "https://lh3.googleusercontent.com/a-/AOh14GiZmASEMjQNCk0WtFcirsWGjCRCzFWDSOGuehrkaA=s64",
      "userId": "01003199975976267017"
     },
     "user_tz": 180
    },
    "id": "bcsdtW72eyLV",
    "outputId": "3961a0a5-9814-4adc-d7be-9772dbc5481d"
   },
   "outputs": [
    {
     "name": "stdout",
     "output_type": "stream",
     "text": [
      "o tipo de atring é <class 'str'>\n",
      "o tipo de 10 é <class 'int'>\n",
      "o tipo de -3.3 é <class 'float'>\n",
      "o tipo de False é <class 'bool'>\n"
     ]
    }
   ],
   "source": [
    "# verificando os tipos de valores em uma lista \n",
    "\n",
    "lista = ['atring',10, -3.3, False]\n",
    "\n",
    "for i in lista:\n",
    "  print(f'o tipo de {i} é {type(i)}')"
   ]
  },
  {
   "cell_type": "code",
   "execution_count": null,
   "metadata": {
    "colab": {
     "base_uri": "https://localhost:8080/"
    },
    "executionInfo": {
     "elapsed": 24153,
     "status": "ok",
     "timestamp": 1645670520177,
     "user": {
      "displayName": "Edgar Bruno Benicio de Freitas",
      "photoUrl": "https://lh3.googleusercontent.com/a-/AOh14GiZmASEMjQNCk0WtFcirsWGjCRCzFWDSOGuehrkaA=s64",
      "userId": "01003199975976267017"
     },
     "user_tz": 180
    },
    "id": "neU3Sg1mgtJX",
    "outputId": "0afb75ac-d862-4b7c-fb01-6ed06f50e4ae"
   },
   "outputs": [
    {
     "name": "stdin",
     "output_type": "stream",
     "text": [
      "digite apenas 1 letra:  p\n"
     ]
    },
    {
     "name": "stdout",
     "output_type": "stream",
     "text": [
      "parabéns, a dica é p########\n"
     ]
    },
    {
     "name": "stdin",
     "output_type": "stream",
     "text": [
      "digite apenas 1 letra:  a\n"
     ]
    },
    {
     "name": "stdout",
     "output_type": "stream",
     "text": [
      "parabéns, a dica é #a#####a#\n"
     ]
    },
    {
     "name": "stdin",
     "output_type": "stream",
     "text": [
      "digite apenas 1 letra:  s\n"
     ]
    },
    {
     "name": "stdout",
     "output_type": "stream",
     "text": [
      "parabéns, a dica é ########s\n"
     ]
    }
   ],
   "source": [
    "# jogo da palavra secreta \n",
    "\n",
    "palavra = 'palmeiras'\n",
    "l_palavra = list(range(0))\n",
    "dica = ''\n",
    "\n",
    "while True:\n",
    "  letra = input('digite apenas 1 letra: ')\n",
    "\n",
    "  if len(letra)>1 or letra == ' ' or letra=='':\n",
    "    print('rapaz... digite 1 letra do alfabeto !') \n",
    "    continue \n",
    "  \n",
    "  if letra in palavra: \n",
    "    dica = ''\n",
    "    for i in palavra:\n",
    "      if i == letra:\n",
    "        dica += i\n",
    "      else:\n",
    "        dica += '#'\n",
    "\n",
    "    print(f'parabéns, a dica é {dica}')\n",
    "\n",
    "    tentar = ('quer tentar chutar a palavra ? [s]im ou [n]ao') \n",
    "\n",
    "    if  tentar == 's':\n",
    "      tentativa = input('faça sua tentativa: ')\n",
    "\n",
    "      if tentativa == palavra:\n",
    "        print(f'ganhou, a palavra é {palavra}')\n",
    "        break\n",
    "      else:\n",
    "        print('perdeu')\n",
    "        break\n",
    "\n",
    "  else: \n",
    "    print('ERROU ! mais uma vez ? s]im ou [n]ao') \n",
    "    resposta = input(':  ')\n",
    "\n",
    "    if resposta =='s':\n",
    "      continue\n",
    "    else:\n",
    "      break "
   ]
  },
  {
   "cell_type": "code",
   "execution_count": 6,
   "metadata": {
    "colab": {
     "base_uri": "https://localhost:8080/",
     "height": 169
    },
    "executionInfo": {
     "elapsed": 53,
     "status": "error",
     "timestamp": 1645759739937,
     "user": {
      "displayName": "Edgar Bruno Benicio de Freitas",
      "photoUrl": "https://lh3.googleusercontent.com/a-/AOh14GiZmASEMjQNCk0WtFcirsWGjCRCzFWDSOGuehrkaA=s64",
      "userId": "01003199975976267017"
     },
     "user_tz": 180
    },
    "id": "6y5fhx7DhQ5P",
    "outputId": "f0c6c805-3de3-4f48-8e41-4d5121ab1ecb"
   },
   "outputs": [
    {
     "data": {
      "text/plain": [
       "[]"
      ]
     },
     "execution_count": 6,
     "metadata": {},
     "output_type": "execute_result"
    }
   ],
   "source": [
    "list(range(0)) "
   ]
  }
 ],
 "metadata": {
  "colab": {
   "authorship_tag": "ABX9TyPA3eS+l/DxtZCxlxuSAztw",
   "collapsed_sections": [],
   "name": "pagina 9",
   "provenance": []
  },
  "kernelspec": {
   "display_name": "Python 3 (ipykernel)",
   "language": "python",
   "name": "python3"
  },
  "language_info": {
   "codemirror_mode": {
    "name": "ipython",
    "version": 3
   },
   "file_extension": ".py",
   "mimetype": "text/x-python",
   "name": "python",
   "nbconvert_exporter": "python",
   "pygments_lexer": "ipython3",
   "version": "3.9.7"
  }
 },
 "nbformat": 4,
 "nbformat_minor": 4
}
