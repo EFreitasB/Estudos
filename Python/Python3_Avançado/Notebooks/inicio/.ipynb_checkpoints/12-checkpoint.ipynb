{
 "cells": [
  {
   "cell_type": "code",
   "execution_count": 1,
   "id": "c689d998-7b2e-4ee9-97cc-47160ca9fe2c",
   "metadata": {},
   "outputs": [],
   "source": [
    "def saudacao(msg='Olá',nome='Edgar'):\n",
    "    return f'{msg} {nome}'"
   ]
  },
  {
   "cell_type": "code",
   "execution_count": 4,
   "id": "2d933fe0-3194-447f-9f42-18a5bb2ab7cd",
   "metadata": {},
   "outputs": [
    {
     "data": {
      "text/plain": [
       "'oi Helena'"
      ]
     },
     "execution_count": 4,
     "metadata": {},
     "output_type": "execute_result"
    }
   ],
   "source": [
    "saudacao('oi','Helena')"
   ]
  }
 ],
 "metadata": {
  "kernelspec": {
   "display_name": "Python 3 (ipykernel)",
   "language": "python",
   "name": "python3"
  },
  "language_info": {
   "codemirror_mode": {
    "name": "ipython",
    "version": 3
   },
   "file_extension": ".py",
   "mimetype": "text/x-python",
   "name": "python",
   "nbconvert_exporter": "python",
   "pygments_lexer": "ipython3",
   "version": "3.9.7"
  }
 },
 "nbformat": 4,
 "nbformat_minor": 5
}
