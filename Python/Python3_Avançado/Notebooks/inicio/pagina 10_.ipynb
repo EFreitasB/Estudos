{
 "cells": [
  {
   "cell_type": "code",
   "execution_count": 1,
   "metadata": {
    "colab": {
     "base_uri": "https://localhost:8080/"
    },
    "executionInfo": {
     "elapsed": 38880,
     "status": "ok",
     "timestamp": 1645750618853,
     "user": {
      "displayName": "Edgar Bruno Benicio de Freitas",
      "photoUrl": "https://lh3.googleusercontent.com/a-/AOh14GiZmASEMjQNCk0WtFcirsWGjCRCzFWDSOGuehrkaA=s64",
      "userId": "01003199975976267017"
     },
     "user_tz": 180
    },
    "id": "7dZxtWayPk6Y",
    "outputId": "eaae4ee2-abd9-4c9a-822e-c3d064379d70"
   },
   "outputs": [
    {
     "name": "stdin",
     "output_type": "stream",
     "text": [
      "x =    p\n"
     ]
    },
    {
     "name": "stdout",
     "output_type": "stream",
     "text": [
      "p********\n"
     ]
    },
    {
     "name": "stdin",
     "output_type": "stream",
     "text": [
      "x =    n\n"
     ]
    }
   ],
   "source": [
    "# exercicio anterior \n",
    "\n",
    "secreto = 'palmeiras'\n",
    "\n",
    "lista1 = []\n",
    "lista2 = []\n",
    "dica = ''\n",
    "\n",
    "for i in secreto:\n",
    "  lista1.append(i)\n",
    "  lista2.append('*')\n",
    "\n",
    "while True :\n",
    "  x = input('x =   ')\n",
    "\n",
    "  if x =='n': break \n",
    "\n",
    "  for i,j in enumerate(lista1):\n",
    "    if x == j : \n",
    "      lista2[i] = x \n",
    "\n",
    "  dica = ''\n",
    "  for i in range(len(secreto)): \n",
    "    dica += lista2[i] \n",
    "\n",
    "  print(dica)\n"
   ]
  },
  {
   "cell_type": "code",
   "execution_count": 11,
   "metadata": {
    "colab": {
     "base_uri": "https://localhost:8080/"
    },
    "executionInfo": {
     "elapsed": 14487,
     "status": "ok",
     "timestamp": 1645751059897,
     "user": {
      "displayName": "Edgar Bruno Benicio de Freitas",
      "photoUrl": "https://lh3.googleusercontent.com/a-/AOh14GiZmASEMjQNCk0WtFcirsWGjCRCzFWDSOGuehrkaA=s64",
      "userId": "01003199975976267017"
     },
     "user_tz": 180
    },
    "id": "mUacRvgDWvBt",
    "outputId": "18693276-0c77-4c44-f095-8fffdabc2046"
   },
   "outputs": [
    {
     "name": "stdout",
     "output_type": "stream",
     "text": [
      "l: p\n",
      "***\n",
      "l: o\n",
      "***\n",
      "l: s\n",
      "s**\n",
      "l: e\n",
      "se*\n",
      "l: u\n",
      "seu\n",
      "l: n\n"
     ]
    }
   ],
   "source": [
    "secreta = 'seu'\n",
    "dica = ''\n",
    "h = []\n",
    "while True :\n",
    "  l = input('l: ')\n",
    "  if l == 'n': break \n",
    "\n",
    "  if l in secreta:\n",
    "    h.append(l)\n",
    "\n",
    "  dica = ''\n",
    "  for i in secreta :\n",
    "    if i in h:\n",
    "      dica += i\n",
    "    else:\n",
    "      dica += '*'\n",
    "\n",
    "  print(dica)"
   ]
  },
  {
   "cell_type": "code",
   "execution_count": 4,
   "metadata": {
    "colab": {
     "base_uri": "https://localhost:8080/"
    },
    "executionInfo": {
     "elapsed": 413,
     "status": "ok",
     "timestamp": 1645758913107,
     "user": {
      "displayName": "Edgar Bruno Benicio de Freitas",
      "photoUrl": "https://lh3.googleusercontent.com/a-/AOh14GiZmASEMjQNCk0WtFcirsWGjCRCzFWDSOGuehrkaA=s64",
      "userId": "01003199975976267017"
     },
     "user_tz": 180
    },
    "id": "6hTPTWfQ2Ud7",
    "outputId": "79caa5e1-3cc1-4b6c-824e-e3929d5f4ed2"
   },
   "outputs": [
    {
     "name": "stdout",
     "output_type": "stream",
     "text": [
      "não começa\n",
      "não começa\n",
      "começa\n"
     ]
    }
   ],
   "source": [
    "# startswith\n",
    "\n",
    "letra2 = ['edgar','witney','alex']\n",
    "\n",
    "letra = 'edgAr'\n",
    "\n",
    "for i in letra2 :\n",
    "  if i.lower().startswith('a') :\n",
    "    print('começa')\n",
    "  else:\n",
    "    print('não começa')\n"
   ]
  },
  {
   "cell_type": "code",
   "execution_count": 5,
   "metadata": {
    "colab": {
     "base_uri": "https://localhost:8080/"
    },
    "executionInfo": {
     "elapsed": 340,
     "status": "ok",
     "timestamp": 1645759282922,
     "user": {
      "displayName": "Edgar Bruno Benicio de Freitas",
      "photoUrl": "https://lh3.googleusercontent.com/a-/AOh14GiZmASEMjQNCk0WtFcirsWGjCRCzFWDSOGuehrkaA=s64",
      "userId": "01003199975976267017"
     },
     "user_tz": 180
    },
    "id": "cqwzgZRJ4b6Z",
    "outputId": "9ff56896-160b-4109-97e7-9d308930453d"
   },
   "outputs": [
    {
     "name": "stdout",
     "output_type": "stream",
     "text": [
      "a palavra \"mario\" começa com m\n",
      "alternativa ao \"for\"\n"
     ]
    }
   ],
   "source": [
    "lista = ['edgar','witney','mario']\n",
    "\n",
    "for i in lista:\n",
    "  if i.lower().startswith('m') :\n",
    "    print(f'a palavra \"{i}\" começa com m')\n",
    "else :\n",
    "  print('alternativa ao \"for\"')"
   ]
  },
  {
   "cell_type": "code",
   "execution_count": 18,
   "metadata": {
    "colab": {
     "base_uri": "https://localhost:8080/"
    },
    "executionInfo": {
     "elapsed": 297,
     "status": "ok",
     "timestamp": 1645760089272,
     "user": {
      "displayName": "Edgar Bruno Benicio de Freitas",
      "photoUrl": "https://lh3.googleusercontent.com/a-/AOh14GiZmASEMjQNCk0WtFcirsWGjCRCzFWDSOGuehrkaA=s64",
      "userId": "01003199975976267017"
     },
     "user_tz": 180
    },
    "id": "ov4DBcgF70bq",
    "outputId": "0ffcd8d3-e1c3-4485-f83a-ba67ad4f9d72"
   },
   "outputs": [
    {
     "data": {
      "text/plain": [
       "['o', 'palmeiras;', 'quase', 'ganhou', 'o', 'mundiaL']"
      ]
     },
     "execution_count": 18,
     "metadata": {},
     "output_type": "execute_result"
    }
   ],
   "source": [
    "# iteráveis : listas e strings ... \n",
    "\n",
    "frase = 'o palmeiras; quase ganhou o mundiaL'\n",
    "\n",
    "lista1 = frase.split(' ')\n"
   ]
  },
  {
   "cell_type": "code",
   "execution_count": 6,
   "metadata": {
    "colab": {
     "base_uri": "https://localhost:8080/"
    },
    "executionInfo": {
     "elapsed": 327,
     "status": "ok",
     "timestamp": 1645760297575,
     "user": {
      "displayName": "Edgar Bruno Benicio de Freitas",
      "photoUrl": "https://lh3.googleusercontent.com/a-/AOh14GiZmASEMjQNCk0WtFcirsWGjCRCzFWDSOGuehrkaA=s64",
      "userId": "01003199975976267017"
     },
     "user_tz": 180
    },
    "id": "vDyc1NUG87yT",
    "outputId": "47644a2a-f180-4e06-f2da-79f0ae939f83"
   },
   "outputs": [
    {
     "data": {
      "text/plain": [
       "1"
      ]
     },
     "execution_count": 6,
     "metadata": {},
     "output_type": "execute_result"
    }
   ],
   "source": [
    "# contando com a função count()\n",
    "\n",
    "frase = 'o palmeiras; quase ganhou o mundiaL w'\n",
    "\n",
    "frase.count('w')\n",
    "\n",
    "# for i in frase : \n",
    "#   i.count('a')"
   ]
  },
  {
   "cell_type": "code",
   "execution_count": 21,
   "metadata": {
    "colab": {
     "base_uri": "https://localhost:8080/"
    },
    "executionInfo": {
     "elapsed": 289,
     "status": "ok",
     "timestamp": 1645760481517,
     "user": {
      "displayName": "Edgar Bruno Benicio de Freitas",
      "photoUrl": "https://lh3.googleusercontent.com/a-/AOh14GiZmASEMjQNCk0WtFcirsWGjCRCzFWDSOGuehrkaA=s64",
      "userId": "01003199975976267017"
     },
     "user_tz": 180
    },
    "id": "LE4Vy1_J9mvf",
    "outputId": "1e84d3c7-b12f-4251-c72b-66782476dde5"
   },
   "outputs": [
    {
     "name": "stdout",
     "output_type": "stream",
     "text": [
      "o aparece 4 vezes na frase\n",
      "  aparece 9 vezes na frase\n",
      "p aparece 2 vezes na frase\n",
      "a aparece 8 vezes na frase\n",
      "l aparece 4 vezes na frase\n",
      "m aparece 6 vezes na frase\n",
      "e aparece 4 vezes na frase\n",
      "i aparece 4 vezes na frase\n",
      "r aparece 1 vezes na frase\n",
      "a aparece 8 vezes na frase\n",
      "s aparece 2 vezes na frase\n",
      "; aparece 1 vezes na frase\n",
      "  aparece 9 vezes na frase\n",
      "q aparece 1 vezes na frase\n",
      "u aparece 4 vezes na frase\n",
      "a aparece 8 vezes na frase\n",
      "s aparece 2 vezes na frase\n",
      "e aparece 4 vezes na frase\n",
      "  aparece 9 vezes na frase\n",
      "g aparece 1 vezes na frase\n",
      "a aparece 8 vezes na frase\n",
      "n aparece 3 vezes na frase\n",
      "h aparece 1 vezes na frase\n",
      "o aparece 4 vezes na frase\n",
      "u aparece 4 vezes na frase\n",
      "  aparece 9 vezes na frase\n",
      "o aparece 4 vezes na frase\n",
      "  aparece 9 vezes na frase\n",
      "m aparece 6 vezes na frase\n",
      "u aparece 4 vezes na frase\n",
      "n aparece 3 vezes na frase\n",
      "d aparece 1 vezes na frase\n",
      "i aparece 4 vezes na frase\n",
      "a aparece 8 vezes na frase\n",
      "L aparece 1 vezes na frase\n",
      ", aparece 6 vezes na frase\n",
      "  aparece 9 vezes na frase\n",
      "b aparece 1 vezes na frase\n",
      "e aparece 4 vezes na frase\n",
      "m aparece 6 vezes na frase\n",
      "  aparece 9 vezes na frase\n",
      ", aparece 6 vezes na frase\n",
      "  aparece 9 vezes na frase\n",
      "m aparece 6 vezes na frase\n",
      "a aparece 8 vezes na frase\n",
      "l aparece 4 vezes na frase\n",
      ", aparece 6 vezes na frase\n",
      "m aparece 6 vezes na frase\n",
      "a aparece 8 vezes na frase\n",
      "l aparece 4 vezes na frase\n",
      ", aparece 6 vezes na frase\n",
      "  aparece 9 vezes na frase\n",
      "p aparece 2 vezes na frase\n",
      "u aparece 4 vezes na frase\n",
      "t aparece 1 vezes na frase\n",
      "i aparece 4 vezes na frase\n",
      "n aparece 3 vezes na frase\n",
      ", aparece 6 vezes na frase\n",
      "m aparece 6 vezes na frase\n",
      "a aparece 8 vezes na frase\n",
      "l aparece 4 vezes na frase\n",
      ", aparece 6 vezes na frase\n",
      "v aparece 1 vezes na frase\n",
      "e aparece 4 vezes na frase\n",
      "i aparece 4 vezes na frase\n",
      "o aparece 4 vezes na frase\n"
     ]
    }
   ],
   "source": [
    "frase = 'o palmeiras; quase ganhou o mundiaL, bem , mal,mal, putin,mal,veio'\n",
    "\n",
    "for i in frase :\n",
    "  print(f'{i} aparece {frase.count(i)} vezes na frase')"
   ]
  },
  {
   "cell_type": "code",
   "execution_count": 22,
   "metadata": {
    "colab": {
     "base_uri": "https://localhost:8080/"
    },
    "executionInfo": {
     "elapsed": 311,
     "status": "ok",
     "timestamp": 1645760772388,
     "user": {
      "displayName": "Edgar Bruno Benicio de Freitas",
      "photoUrl": "https://lh3.googleusercontent.com/a-/AOh14GiZmASEMjQNCk0WtFcirsWGjCRCzFWDSOGuehrkaA=s64",
      "userId": "01003199975976267017"
     },
     "user_tz": 180
    },
    "id": "dvMyTPLi-56k",
    "outputId": "e7aeebdc-9b52-4d4b-8c95-2bd682cfac4c"
   },
   "outputs": [
    {
     "name": "stdout",
     "output_type": "stream",
     "text": [
      "edgar\n"
     ]
    }
   ],
   "source": [
    "# retirar espaço no inicio e no fim da frase\n",
    "\n",
    "frase = '   edgar    '\n",
    "\n",
    "print(frase.strip())"
   ]
  },
  {
   "cell_type": "code",
   "execution_count": 8,
   "metadata": {
    "colab": {
     "base_uri": "https://localhost:8080/"
    },
    "executionInfo": {
     "elapsed": 298,
     "status": "ok",
     "timestamp": 1645760981520,
     "user": {
      "displayName": "Edgar Bruno Benicio de Freitas",
      "photoUrl": "https://lh3.googleusercontent.com/a-/AOh14GiZmASEMjQNCk0WtFcirsWGjCRCzFWDSOGuehrkaA=s64",
      "userId": "01003199975976267017"
     },
     "user_tz": 180
    },
    "id": "g-YuVKqP_Uyr",
    "outputId": "77377ab6-5b29-4b65-ca17-1e9e7a5fa393"
   },
   "outputs": [
    {
     "name": "stdout",
     "output_type": "stream",
     "text": [
      "p/a/l/m/e/i/r/a/s\n"
     ]
    }
   ],
   "source": [
    "# join transmar lista em string\n",
    "\n",
    "lista1 = ['p', 'a', 'l', 'm', 'e', 'i', 'r', 'a', 's']\n",
    "\n",
    "print( '/'.join(lista1) )\n"
   ]
  },
  {
   "cell_type": "code",
   "execution_count": 10,
   "metadata": {
    "colab": {
     "base_uri": "https://localhost:8080/"
    },
    "executionInfo": {
     "elapsed": 376,
     "status": "ok",
     "timestamp": 1645761143432,
     "user": {
      "displayName": "Edgar Bruno Benicio de Freitas",
      "photoUrl": "https://lh3.googleusercontent.com/a-/AOh14GiZmASEMjQNCk0WtFcirsWGjCRCzFWDSOGuehrkaA=s64",
      "userId": "01003199975976267017"
     },
     "user_tz": 180
    },
    "id": "-BOtigLjAC-o",
    "outputId": "397691ab-7ddb-464d-bbf6-1e096ad263ca"
   },
   "outputs": [
    {
     "name": "stdout",
     "output_type": "stream",
     "text": [
      "indice: 0 - valor: edgar\n",
      "indice: 1 - valor: witney\n",
      "indice: 2 - valor: mars\n"
     ]
    }
   ],
   "source": [
    "# o enumarate desempacota a lista, separando indice de valor \n",
    "# a função enumarate retorna tuplas \n",
    "\n",
    "lista = ['edgar','witney','mars']\n",
    "\n",
    "for indice,valor in enumerate(lista) :\n",
    "  print(f'indice: {indice} - valor: {valor}') "
   ]
  },
  {
   "cell_type": "code",
   "execution_count": 13,
   "metadata": {
    "colab": {
     "base_uri": "https://localhost:8080/"
    },
    "executionInfo": {
     "elapsed": 292,
     "status": "ok",
     "timestamp": 1645761411301,
     "user": {
      "displayName": "Edgar Bruno Benicio de Freitas",
      "photoUrl": "https://lh3.googleusercontent.com/a-/AOh14GiZmASEMjQNCk0WtFcirsWGjCRCzFWDSOGuehrkaA=s64",
      "userId": "01003199975976267017"
     },
     "user_tz": 180
    },
    "id": "tFhEKpt5BOfG",
    "outputId": "5e7e20c8-6c34-424e-b160-99f33c7e5a65"
   },
   "outputs": [
    {
     "name": "stdout",
     "output_type": "stream",
     "text": [
      "valor1 valor2 valor3\n"
     ]
    }
   ],
   "source": [
    "# nao sabia disso \n",
    "\n",
    "lista = ['valor1','valor2','valor3']\n",
    "\n",
    "v1,v2,v3 = lista \n",
    "\n",
    "print(v1,v2,v3)"
   ]
  }
 ],
 "metadata": {
  "colab": {
   "authorship_tag": "ABX9TyNqYiifE2Wle4EZSO8qJN2p",
   "collapsed_sections": [],
   "name": "pagina 10 ",
   "provenance": []
  },
  "kernelspec": {
   "display_name": "Python 3 (ipykernel)",
   "language": "python",
   "name": "python3"
  },
  "language_info": {
   "codemirror_mode": {
    "name": "ipython",
    "version": 3
   },
   "file_extension": ".py",
   "mimetype": "text/x-python",
   "name": "python",
   "nbconvert_exporter": "python",
   "pygments_lexer": "ipython3",
   "version": "3.9.7"
  }
 },
 "nbformat": 4,
 "nbformat_minor": 4
}
