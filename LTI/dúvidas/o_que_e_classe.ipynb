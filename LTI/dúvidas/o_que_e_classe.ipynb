{
 "cells": [
  {
   "cell_type": "markdown",
   "id": "49d9e0aa-b573-4232-9cb4-6677db44c904",
   "metadata": {
    "tags": []
   },
   "source": [
    "**Montando o objeto Fracao** \n",
    "\n",
    "uma classe tem atributos e métodos\n",
    "construindo um objeto novo\n",
    "\n",
    "objeto fração\n",
    "*atributos: numerador e denominador \n",
    "\n",
    "*métodos: *, -, *, /, inverter, simplificar em python tudo é objeto\n",
    "\n",
    "os métodos são ações, logo são funções\n",
    "\n",
    "__init__ é o construtor\n",
    "    se ela constroi o objeto, ela recebe os atributos desse objetos\n",
    "    \n",
    "    o self é o objeto que sera construido\n",
    "    \n",
    "    nos self's colocaremos os atributos\n",
    "    \n",
    "    existe alguma restrição á um atributo? if...\n",
    "    "
   ]
  },
  {
   "cell_type": "code",
   "execution_count": 2,
   "id": "d7fc7a54-eb86-43ba-9d69-ff4dfa0ae094",
   "metadata": {},
   "outputs": [],
   "source": [
    "class Fracao:\n",
    "    def __init__(self,num,den) : #aqui o objeto esta sendo construido... o self\n",
    "        self.numerador = num\n",
    "        if den == 0:\n",
    "            self.denominador = 1\n",
    "        else :\n",
    "            self.denominador = den"
   ]
  },
  {
   "cell_type": "code",
   "execution_count": 3,
   "id": "4cffedcd-b268-4a82-b8fe-368da229ce08",
   "metadata": {},
   "outputs": [],
   "source": [
    "a = Fracao(1,5)"
   ]
  },
  {
   "cell_type": "code",
   "execution_count": 4,
   "id": "bf1183eb-1b76-4445-a798-752183f37446",
   "metadata": {},
   "outputs": [
    {
     "data": {
      "text/plain": [
       "1"
      ]
     },
     "execution_count": 4,
     "metadata": {},
     "output_type": "execute_result"
    }
   ],
   "source": [
    "a.numerador"
   ]
  },
  {
   "cell_type": "code",
   "execution_count": 5,
   "id": "6a4ebb97-f4f7-4d20-8397-71187e34680e",
   "metadata": {},
   "outputs": [
    {
     "data": {
      "text/plain": [
       "5"
      ]
     },
     "execution_count": 5,
     "metadata": {},
     "output_type": "execute_result"
    }
   ],
   "source": [
    "a.denominador"
   ]
  },
  {
   "cell_type": "code",
   "execution_count": 49,
   "id": "25892fe8-6837-476a-8dcc-242c040083fa",
   "metadata": {},
   "outputs": [],
   "source": [
    "class Fracao:\n",
    "    # atributo : \"quem é o objeto?\"\n",
    "    def __init__(self,num,den) : #aqui o objeto esta sendo construido... o self\n",
    "        self.numerador = num\n",
    "        if den == 0:\n",
    "            self.denominador = 1\n",
    "        else :\n",
    "            self.denominador = den\n",
    "            \n",
    "        # self.d = d if d else 1  #porque 0 é False \n",
    "\n",
    "            \n",
    "    # método : \"o que faz o objeto?\"       \n",
    "    def inverter(self):\n",
    "        return Fracao(self.denominador, self.numerador)\n",
    "    # def inverter(self) :\n",
    "    #     self.numerador, self.denominador = self.denominador,self.numerador \n",
    "    def multiplicar(self, outra ):\n",
    "        num = self.numerador * outra.numerador\n",
    "        den = self.denominador * outra.denominador\n",
    "        return print(f'{num}/{den}')"
   ]
  },
  {
   "cell_type": "code",
   "execution_count": 47,
   "id": "e857289c-72c5-42b1-b85c-40e377e93401",
   "metadata": {},
   "outputs": [
    {
     "data": {
      "text/plain": [
       "4"
      ]
     },
     "execution_count": 47,
     "metadata": {},
     "output_type": "execute_result"
    }
   ],
   "source": [
    "b = Fracao(2,4)\n",
    "\n",
    "b.inverter().numerador"
   ]
  },
  {
   "cell_type": "code",
   "execution_count": 50,
   "id": "6eaa5a1b-f671-4ed0-af3a-0be9fca53910",
   "metadata": {},
   "outputs": [
    {
     "name": "stdout",
     "output_type": "stream",
     "text": [
      "4/16\n"
     ]
    }
   ],
   "source": [
    "b = Fracao(2,4)\n",
    "a = Fracao(2,4)\n",
    "a.multiplicar(b)"
   ]
  }
 ],
 "metadata": {
  "kernelspec": {
   "display_name": "Python 3 (ipykernel)",
   "language": "python",
   "name": "python3"
  },
  "language_info": {
   "codemirror_mode": {
    "name": "ipython",
    "version": 3
   },
   "file_extension": ".py",
   "mimetype": "text/x-python",
   "name": "python",
   "nbconvert_exporter": "python",
   "pygments_lexer": "ipython3",
   "version": "3.9.7"
  }
 },
 "nbformat": 4,
 "nbformat_minor": 5
}
